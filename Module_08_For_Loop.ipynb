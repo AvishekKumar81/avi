{
 "cells": [
  {
   "cell_type": "code",
   "execution_count": 1,
   "id": "f8f1e42b-072b-49b5-9010-8cfab48f22a9",
   "metadata": {},
   "outputs": [],
   "source": [
    "l=[1,23,4,5,6]"
   ]
  },
  {
   "cell_type": "code",
   "execution_count": 2,
   "id": "334353d4-c42d-496c-b37e-28f66eb1acb0",
   "metadata": {},
   "outputs": [
    {
     "ename": "AttributeError",
     "evalue": "'list' object has no attribute 'items'",
     "output_type": "error",
     "traceback": [
      "\u001b[1;31m---------------------------------------------------------------------------\u001b[0m",
      "\u001b[1;31mAttributeError\u001b[0m                            Traceback (most recent call last)",
      "Cell \u001b[1;32mIn[2], line 1\u001b[0m\n\u001b[1;32m----> 1\u001b[0m \u001b[43ml\u001b[49m\u001b[38;5;241;43m.\u001b[39;49m\u001b[43mitems\u001b[49m\n",
      "\u001b[1;31mAttributeError\u001b[0m: 'list' object has no attribute 'items'"
     ]
    }
   ],
   "source": [
    "l.items"
   ]
  },
  {
   "cell_type": "code",
   "execution_count": 3,
   "id": "16303935-ff50-4ad7-98c5-7bbc1f18ea62",
   "metadata": {},
   "outputs": [
    {
     "ename": "AttributeError",
     "evalue": "'list' object has no attribute 'items'",
     "output_type": "error",
     "traceback": [
      "\u001b[1;31m---------------------------------------------------------------------------\u001b[0m",
      "\u001b[1;31mAttributeError\u001b[0m                            Traceback (most recent call last)",
      "Cell \u001b[1;32mIn[3], line 1\u001b[0m\n\u001b[1;32m----> 1\u001b[0m \u001b[43ml\u001b[49m\u001b[38;5;241;43m.\u001b[39;49m\u001b[43mitems\u001b[49m()\n",
      "\u001b[1;31mAttributeError\u001b[0m: 'list' object has no attribute 'items'"
     ]
    }
   ],
   "source": [
    "l.items()"
   ]
  },
  {
   "cell_type": "code",
   "execution_count": 4,
   "id": "b59b02ed-04d3-4a33-b4b9-42f938eb9d69",
   "metadata": {},
   "outputs": [
    {
     "name": "stdout",
     "output_type": "stream",
     "text": [
      "1\n",
      "23\n",
      "4\n",
      "5\n",
      "6\n"
     ]
    }
   ],
   "source": [
    "for i in l:\n",
    "    print(i)"
   ]
  },
  {
   "cell_type": "code",
   "execution_count": 5,
   "id": "a4ccccbf-c114-4189-b7d3-b01d7b970241",
   "metadata": {},
   "outputs": [
    {
     "name": "stdout",
     "output_type": "stream",
     "text": [
      "1 <class 'int'>\n",
      "23 <class 'int'>\n",
      "4 <class 'int'>\n",
      "5 <class 'int'>\n",
      "6 <class 'int'>\n"
     ]
    }
   ],
   "source": [
    "for i in l:\n",
    "    print(i,type(i))"
   ]
  },
  {
   "cell_type": "code",
   "execution_count": 10,
   "id": "995f40c2-c9f6-40d7-ba3e-ee5faaa759ea",
   "metadata": {},
   "outputs": [],
   "source": [
    "l2=[\"Avishek\",\"ankit\",\"rahul\",90]"
   ]
  },
  {
   "cell_type": "code",
   "execution_count": 11,
   "id": "75fa9330-c79f-4423-8b4d-1d99d76cca1a",
   "metadata": {},
   "outputs": [
    {
     "data": {
      "text/plain": [
       "['Avishek', 'ankit', 'rahul', 90]"
      ]
     },
     "execution_count": 11,
     "metadata": {},
     "output_type": "execute_result"
    }
   ],
   "source": [
    "l2"
   ]
  },
  {
   "cell_type": "code",
   "execution_count": 12,
   "id": "ff5abea7-69b8-4cd0-9285-2d7d83c0815e",
   "metadata": {},
   "outputs": [
    {
     "name": "stdout",
     "output_type": "stream",
     "text": [
      "['Avishek', 'ankit', 'rahul', 90]\n"
     ]
    }
   ],
   "source": [
    "print(l2)"
   ]
  },
  {
   "cell_type": "code",
   "execution_count": 13,
   "id": "3c01c53d-018c-477b-85d0-78824c36f406",
   "metadata": {},
   "outputs": [
    {
     "name": "stdout",
     "output_type": "stream",
     "text": [
      "Avishek <class 'str'>\n",
      "ankit <class 'str'>\n",
      "rahul <class 'str'>\n",
      "90 <class 'int'>\n"
     ]
    }
   ],
   "source": [
    "for i in l2:\n",
    "    print(i, type(i))"
   ]
  },
  {
   "cell_type": "code",
   "execution_count": 15,
   "id": "9ea524b4-f209-43ea-b780-fdf4592a80ff",
   "metadata": {},
   "outputs": [
    {
     "name": "stdout",
     "output_type": "stream",
     "text": [
      "Avishek\n",
      "ankit\n",
      "rahul\n",
      "90\n",
      "hello Avishek if for loop is able complete itself then only else will execute:\n"
     ]
    }
   ],
   "source": [
    "for i in l2:\n",
    "    print(i)\n",
    "else:\n",
    "    print(\"hello Avishek\",\"if for loop is able complete itself then only else will execute:\")"
   ]
  },
  {
   "cell_type": "code",
   "execution_count": 19,
   "id": "d85ad3ed-d525-42ac-8f98-e0c498ac99bc",
   "metadata": {},
   "outputs": [
    {
     "name": "stdout",
     "output_type": "stream",
     "text": [
      "Avishek\n"
     ]
    }
   ],
   "source": [
    "for i in l2:\n",
    "    if i==\"ankit\":\n",
    "        break\n",
    "    print(i)\n",
    "else:\n",
    "    print(\"Execute this if for loop is able to complete itself\")"
   ]
  },
  {
   "cell_type": "code",
   "execution_count": 20,
   "id": "3ab5e93f-aad3-4de8-b890-f354959fceeb",
   "metadata": {},
   "outputs": [
    {
     "name": "stdout",
     "output_type": "stream",
     "text": [
      "Avishek\n",
      "rahul\n",
      "90\n",
      "Execute this if for loop is able to complete itself\n"
     ]
    }
   ],
   "source": [
    "for i in l2:\n",
    "    if i==\"ankit\":\n",
    "          continue\n",
    "    print(i)\n",
    "else:\n",
    "    print(\"Execute this if for loop is able to complete itself\")"
   ]
  },
  {
   "cell_type": "code",
   "execution_count": 21,
   "id": "bbf0527d-585f-4935-91b8-25baef36ee39",
   "metadata": {},
   "outputs": [
    {
     "data": {
      "text/plain": [
       "range(0, 5)"
      ]
     },
     "execution_count": 21,
     "metadata": {},
     "output_type": "execute_result"
    }
   ],
   "source": [
    "range(5)"
   ]
  },
  {
   "cell_type": "code",
   "execution_count": 22,
   "id": "8e817cf5-6122-454b-8522-0e163cd56703",
   "metadata": {},
   "outputs": [
    {
     "data": {
      "text/plain": [
       "[0, 1, 2, 3, 4]"
      ]
     },
     "execution_count": 22,
     "metadata": {},
     "output_type": "execute_result"
    }
   ],
   "source": [
    "list(range(5))"
   ]
  },
  {
   "cell_type": "code",
   "execution_count": 23,
   "id": "7241e572-334b-4c2f-8c72-14eb2471d0df",
   "metadata": {},
   "outputs": [
    {
     "data": {
      "text/plain": [
       "[0, 1, 2, 3, 4]"
      ]
     },
     "execution_count": 23,
     "metadata": {},
     "output_type": "execute_result"
    }
   ],
   "source": [
    "list(range(0,5,1))"
   ]
  },
  {
   "cell_type": "code",
   "execution_count": 24,
   "id": "83d42496-e15e-439e-b238-e2f55f48560e",
   "metadata": {},
   "outputs": [
    {
     "data": {
      "text/plain": [
       "[0, 2, 4]"
      ]
     },
     "execution_count": 24,
     "metadata": {},
     "output_type": "execute_result"
    }
   ],
   "source": [
    "list(range(0,5,2))"
   ]
  },
  {
   "cell_type": "code",
   "execution_count": null,
   "id": "474be6d0-2a4d-4a43-ac93-c344bcf18d48",
   "metadata": {},
   "outputs": [],
   "source": []
  },
  {
   "cell_type": "code",
   "execution_count": 24,
   "id": "da3ae112-bb3f-4ed8-93c2-ba296e3ee5e4",
   "metadata": {},
   "outputs": [
    {
     "data": {
      "text/plain": [
       "[0, 2, 4]"
      ]
     },
     "execution_count": 24,
     "metadata": {},
     "output_type": "execute_result"
    }
   ],
   "source": [
    "list(range(0,5,2))"
   ]
  },
  {
   "cell_type": "code",
   "execution_count": 25,
   "id": "b4fdd095-2cc5-4924-986b-c7c4ecc7f183",
   "metadata": {},
   "outputs": [
    {
     "data": {
      "text/plain": [
       "[0, 2, 4, 6, 8, 10, 12, 14, 16, 18]"
      ]
     },
     "execution_count": 25,
     "metadata": {},
     "output_type": "execute_result"
    }
   ],
   "source": [
    "list(range(0,20,2))"
   ]
  },
  {
   "cell_type": "code",
   "execution_count": 26,
   "id": "c2f793d1-0081-45a5-8c7a-25dd5caf6436",
   "metadata": {},
   "outputs": [
    {
     "data": {
      "text/plain": [
       "[-10, -9, -8, -7, -6, -5, -4, -3, -2, -1]"
      ]
     },
     "execution_count": 26,
     "metadata": {},
     "output_type": "execute_result"
    }
   ],
   "source": [
    "list(range(-10,0))"
   ]
  },
  {
   "cell_type": "code",
   "execution_count": 27,
   "id": "815871f6-88a5-406b-8e48-21bbef249b88",
   "metadata": {},
   "outputs": [],
   "source": [
    "l2=[\"Avishek\",\"krishna\",\"SatyamKumar\",\"Sunny\"]"
   ]
  },
  {
   "cell_type": "code",
   "execution_count": 28,
   "id": "d94174c4-6f49-46f7-9a49-126513408755",
   "metadata": {},
   "outputs": [
    {
     "data": {
      "text/plain": [
       "['Avishek', 'krishna', 'SatyamKumar', 'Sunny']"
      ]
     },
     "execution_count": 28,
     "metadata": {},
     "output_type": "execute_result"
    }
   ],
   "source": [
    "l2"
   ]
  },
  {
   "cell_type": "code",
   "execution_count": 29,
   "id": "4a538812-2657-4633-8afd-710ecfd4d96f",
   "metadata": {},
   "outputs": [
    {
     "data": {
      "text/plain": [
       "4"
      ]
     },
     "execution_count": 29,
     "metadata": {},
     "output_type": "execute_result"
    }
   ],
   "source": [
    "len(l2)"
   ]
  },
  {
   "cell_type": "code",
   "execution_count": 32,
   "id": "230e3d4d-9b9e-4161-8ca7-85b258b97460",
   "metadata": {},
   "outputs": [
    {
     "data": {
      "text/plain": [
       "[0, 1, 2, 3]"
      ]
     },
     "execution_count": 32,
     "metadata": {},
     "output_type": "execute_result"
    }
   ],
   "source": [
    "list(range(len(l2)))"
   ]
  },
  {
   "cell_type": "code",
   "execution_count": 33,
   "id": "dde9ec4a-59e1-480f-a392-47e8544de880",
   "metadata": {},
   "outputs": [
    {
     "data": {
      "text/plain": [
       "'Avishek'"
      ]
     },
     "execution_count": 33,
     "metadata": {},
     "output_type": "execute_result"
    }
   ],
   "source": [
    "l2[0]"
   ]
  },
  {
   "cell_type": "code",
   "execution_count": 34,
   "id": "79ab1a1d-e226-4045-ad69-e794f099ff4f",
   "metadata": {},
   "outputs": [
    {
     "data": {
      "text/plain": [
       "'krishna'"
      ]
     },
     "execution_count": 34,
     "metadata": {},
     "output_type": "execute_result"
    }
   ],
   "source": [
    "l2[1]"
   ]
  },
  {
   "cell_type": "code",
   "execution_count": 36,
   "id": "efe51cb7-bfe9-42f8-a9e8-659f76711c3b",
   "metadata": {},
   "outputs": [
    {
     "name": "stdout",
     "output_type": "stream",
     "text": [
      "Avishek\n",
      "krishna\n",
      "SatyamKumar\n",
      "Sunny\n"
     ]
    }
   ],
   "source": [
    "for i in range(len(l2)):\n",
    "    print(l2[i])"
   ]
  },
  {
   "cell_type": "code",
   "execution_count": 37,
   "id": "0b102b98-27f1-4c25-9bb8-c49fc57a9090",
   "metadata": {},
   "outputs": [
    {
     "data": {
      "text/plain": [
       "[0, 1, 2, 3]"
      ]
     },
     "execution_count": 37,
     "metadata": {},
     "output_type": "execute_result"
    }
   ],
   "source": [
    "list(range(len(l2)))"
   ]
  },
  {
   "cell_type": "code",
   "execution_count": 38,
   "id": "e2ac5e12-9e13-44f0-af0a-df34031b5dbd",
   "metadata": {},
   "outputs": [
    {
     "data": {
      "text/plain": [
       "[]"
      ]
     },
     "execution_count": 38,
     "metadata": {},
     "output_type": "execute_result"
    }
   ],
   "source": [
    "list(range(len(l2),0))"
   ]
  },
  {
   "cell_type": "code",
   "execution_count": 39,
   "id": "27c91719-c10b-47a7-9cdc-dc798c64b16c",
   "metadata": {},
   "outputs": [
    {
     "data": {
      "text/plain": [
       "[4, 3, 2, 1]"
      ]
     },
     "execution_count": 39,
     "metadata": {},
     "output_type": "execute_result"
    }
   ],
   "source": [
    "list(range(len(l2),0,-1))"
   ]
  },
  {
   "cell_type": "code",
   "execution_count": 41,
   "id": "caf9c441-a569-4701-b7f1-0a1327a4791f",
   "metadata": {},
   "outputs": [
    {
     "data": {
      "text/plain": [
       "[3, 2, 1, 0]"
      ]
     },
     "execution_count": 41,
     "metadata": {},
     "output_type": "execute_result"
    }
   ],
   "source": [
    "list(range(len(l2)-1,-1,-1))"
   ]
  },
  {
   "cell_type": "code",
   "execution_count": 42,
   "id": "c3084f02-6c37-43c1-91a0-bd49954fdd1c",
   "metadata": {},
   "outputs": [
    {
     "name": "stdout",
     "output_type": "stream",
     "text": [
      "3\n",
      "2\n",
      "1\n",
      "0\n"
     ]
    }
   ],
   "source": [
    "for i in range(len(l2)-1,-1,-1):\n",
    "    print(i)"
   ]
  },
  {
   "cell_type": "code",
   "execution_count": 43,
   "id": "3bd3bee4-02c5-4986-bbf8-6826cbdf3b9a",
   "metadata": {},
   "outputs": [
    {
     "name": "stdout",
     "output_type": "stream",
     "text": [
      "Sunny\n",
      "SatyamKumar\n",
      "krishna\n",
      "Avishek\n"
     ]
    }
   ],
   "source": [
    "for i in range(len(l2)-1,-1,-1):\n",
    "    print(l2[i])"
   ]
  },
  {
   "cell_type": "code",
   "execution_count": 44,
   "id": "beb58771-fbfe-425c-9d45-9d70184424dc",
   "metadata": {},
   "outputs": [
    {
     "name": "stdout",
     "output_type": "stream",
     "text": [
      "Sunny\n",
      "SatyamKumar\n",
      "krishna\n",
      "Avishek\n"
     ]
    }
   ],
   "source": [
    "#  but this is hard coded because in future it becomes dificult to manage.\n",
    "for i in [3,2,1,0]:\n",
    "    print(l2[i])"
   ]
  },
  {
   "cell_type": "code",
   "execution_count": 48,
   "id": "8ed49f29-a18c-4f8f-96b9-c7bdefb212eb",
   "metadata": {},
   "outputs": [],
   "source": [
    "l3=[23,56,78,88,24,578,89,34,46,44,22,18,28,120,]\n",
    "# find element at even index.....?"
   ]
  },
  {
   "cell_type": "code",
   "execution_count": 54,
   "id": "c1264002-2f52-4bad-8330-dd5c63748f2d",
   "metadata": {},
   "outputs": [
    {
     "data": {
      "text/plain": [
       "[0, 2, 4, 6, 8, 10, 12]"
      ]
     },
     "execution_count": 54,
     "metadata": {},
     "output_type": "execute_result"
    }
   ],
   "source": [
    "list(range(0,len(l3),2))"
   ]
  },
  {
   "cell_type": "code",
   "execution_count": 55,
   "id": "78bd8985-b8da-4acd-89ab-781e9e984d3e",
   "metadata": {},
   "outputs": [
    {
     "name": "stdout",
     "output_type": "stream",
     "text": [
      "23\n",
      "78\n",
      "24\n",
      "89\n",
      "46\n",
      "22\n",
      "28\n"
     ]
    }
   ],
   "source": [
    "for i in range(0,len(l3),2):\n",
    "    print(l3[i])"
   ]
  },
  {
   "cell_type": "code",
   "execution_count": 63,
   "id": "18536be4-58d8-4d51-81c6-fe62271c550e",
   "metadata": {},
   "outputs": [],
   "source": [
    "l4=[1,2,3,4,5,6,7,8,9]"
   ]
  },
  {
   "cell_type": "code",
   "execution_count": 67,
   "id": "3ba678f9-c3f0-4f31-a807-66d36210174e",
   "metadata": {},
   "outputs": [
    {
     "name": "stdout",
     "output_type": "stream",
     "text": [
      "[1, 2, 3, 4, 5, 6, 7, 8, 9]\n"
     ]
    }
   ],
   "source": [
    "print(l4)"
   ]
  },
  {
   "cell_type": "code",
   "execution_count": 65,
   "id": "798a8b54-6b1f-4890-ac83-2c0a33f82b5e",
   "metadata": {},
   "outputs": [
    {
     "data": {
      "text/plain": [
       "45"
      ]
     },
     "execution_count": 65,
     "metadata": {},
     "output_type": "execute_result"
    }
   ],
   "source": [
    "sum=0\n",
    "for i in l4:\n",
    "    sum=sum+i\n",
    "sum"
   ]
  },
  {
   "cell_type": "code",
   "execution_count": 71,
   "id": "5e191852-8897-4e1d-8492-6c7f76e2ed98",
   "metadata": {},
   "outputs": [],
   "source": [
    "tu=(1,2,3,4,5,6,7,8,9,10)"
   ]
  },
  {
   "cell_type": "code",
   "execution_count": 72,
   "id": "0e065467-93b7-4b1b-930e-fafb2e029af6",
   "metadata": {},
   "outputs": [
    {
     "name": "stdout",
     "output_type": "stream",
     "text": [
      "1\n",
      "2\n",
      "3\n",
      "4\n",
      "5\n",
      "6\n",
      "7\n",
      "8\n",
      "9\n",
      "10\n"
     ]
    }
   ],
   "source": [
    "for i in tu:\n",
    "    print(i)"
   ]
  },
  {
   "cell_type": "code",
   "execution_count": 73,
   "id": "4ccfbfd6-c659-44ae-9132-b1035e8b8314",
   "metadata": {},
   "outputs": [
    {
     "data": {
      "text/plain": [
       "55"
      ]
     },
     "execution_count": 73,
     "metadata": {},
     "output_type": "execute_result"
    }
   ],
   "source": [
    "sum=0\n",
    "for i in tu:\n",
    "    sum=sum+i\n",
    "sum"
   ]
  },
  {
   "cell_type": "code",
   "execution_count": 74,
   "id": "98edcd3a-3a03-4e26-95b9-ffa50b20ff70",
   "metadata": {},
   "outputs": [],
   "source": [
    "s={1,2,3,\"avishek\",\"pwskill\"}"
   ]
  },
  {
   "cell_type": "code",
   "execution_count": 75,
   "id": "344a5d90-7fd0-4c8e-9ce3-ad572797fe33",
   "metadata": {},
   "outputs": [
    {
     "name": "stdout",
     "output_type": "stream",
     "text": [
      "1\n",
      "2\n",
      "3\n",
      "pwskill\n",
      "avishek\n"
     ]
    }
   ],
   "source": [
    "for i in s:\n",
    "    print(i)"
   ]
  },
  {
   "cell_type": "code",
   "execution_count": 76,
   "id": "9dd0210d-48d0-4ada-b1eb-2b0ae5b25453",
   "metadata": {},
   "outputs": [],
   "source": [
    "s1={\"Avishek\"}"
   ]
  },
  {
   "cell_type": "code",
   "execution_count": 78,
   "id": "f637d6eb-5006-4fdf-9087-4c6cf5c00c21",
   "metadata": {},
   "outputs": [
    {
     "name": "stdout",
     "output_type": "stream",
     "text": [
      "Avishek\n"
     ]
    }
   ],
   "source": [
    "for i in s1:\n",
    "    print(i)"
   ]
  },
  {
   "cell_type": "code",
   "execution_count": 90,
   "id": "4c6dbb66-607d-461c-8e98-e78f7bb752a4",
   "metadata": {},
   "outputs": [
    {
     "data": {
      "text/plain": [
       "[0]"
      ]
     },
     "execution_count": 90,
     "metadata": {},
     "output_type": "execute_result"
    }
   ],
   "source": [
    "list(range(len(s1)))"
   ]
  },
  {
   "cell_type": "code",
   "execution_count": 92,
   "id": "606e7ec5-4cdd-43ba-b45c-eb81a70ca055",
   "metadata": {},
   "outputs": [
    {
     "name": "stdout",
     "output_type": "stream",
     "text": [
      "0\n"
     ]
    }
   ],
   "source": [
    "for i in range(len(s1)):\n",
    "    print(i)"
   ]
  },
  {
   "cell_type": "code",
   "execution_count": 94,
   "id": "3e002a7c-dc8d-40e1-8873-47f86485ad3d",
   "metadata": {},
   "outputs": [],
   "source": [
    "d={\"name\":\"avishek\",\"class\":\"dataScience\",\"topic\":[\"python\",\"stats\",\"machinelearning\"]}"
   ]
  },
  {
   "cell_type": "code",
   "execution_count": 95,
   "id": "eb77deed-23ab-4129-b54c-0b2c26c165e2",
   "metadata": {},
   "outputs": [
    {
     "data": {
      "text/plain": [
       "[0, 1, 2]"
      ]
     },
     "execution_count": 95,
     "metadata": {},
     "output_type": "execute_result"
    }
   ],
   "source": [
    "list(range(len(d)))"
   ]
  },
  {
   "cell_type": "code",
   "execution_count": 96,
   "id": "d537468a-0c39-46ac-a7d9-012a485ec9f7",
   "metadata": {},
   "outputs": [
    {
     "data": {
      "text/plain": [
       "{'name': 'avishek',\n",
       " 'class': 'dataScience',\n",
       " 'topic': ['python', 'stats', 'machinelearning']}"
      ]
     },
     "execution_count": 96,
     "metadata": {},
     "output_type": "execute_result"
    }
   ],
   "source": [
    "d"
   ]
  },
  {
   "cell_type": "code",
   "execution_count": 97,
   "id": "a0213a15-995d-425b-b750-06bbbc4a68ed",
   "metadata": {},
   "outputs": [
    {
     "data": {
      "text/plain": [
       "'avishek'"
      ]
     },
     "execution_count": 97,
     "metadata": {},
     "output_type": "execute_result"
    }
   ],
   "source": [
    "d[\"name\"]"
   ]
  },
  {
   "cell_type": "code",
   "execution_count": 98,
   "id": "0ffe8091-fb8f-47ac-a1dd-7b258aed6f11",
   "metadata": {},
   "outputs": [
    {
     "data": {
      "text/plain": [
       "dict_keys(['name', 'class', 'topic'])"
      ]
     },
     "execution_count": 98,
     "metadata": {},
     "output_type": "execute_result"
    }
   ],
   "source": [
    "d.keys()"
   ]
  },
  {
   "cell_type": "code",
   "execution_count": 105,
   "id": "a07ac329-1fc0-4c68-9206-a703171fcbea",
   "metadata": {},
   "outputs": [
    {
     "name": "stdout",
     "output_type": "stream",
     "text": [
      "avishek\n",
      "dataScience\n",
      "['python', 'stats', 'machinelearning']\n"
     ]
    }
   ],
   "source": [
    "for i in d.keys():\n",
    "    print(d[i])"
   ]
  },
  {
   "cell_type": "code",
   "execution_count": 101,
   "id": "68b754ec-ad80-401d-80fc-5820214df417",
   "metadata": {},
   "outputs": [
    {
     "data": {
      "text/plain": [
       "dict_values(['avishek', 'dataScience', ['python', 'stats', 'machinelearning']])"
      ]
     },
     "execution_count": 101,
     "metadata": {},
     "output_type": "execute_result"
    }
   ],
   "source": [
    "d.values"
   ]
  },
  {
   "cell_type": "code",
   "execution_count": 103,
   "id": "268e6dea-94e5-484a-b829-d982bb376ef3",
   "metadata": {},
   "outputs": [
    {
     "name": "stdout",
     "output_type": "stream",
     "text": [
      "avishek\n",
      "dataScience\n",
      "['python', 'stats', 'machinelearning']\n"
     ]
    }
   ],
   "source": [
    "for i in d.values():\n",
    "    print(i)"
   ]
  },
  {
   "cell_type": "code",
   "execution_count": 106,
   "id": "bcdf2dd6-d8bc-4ffb-9dcb-db622759273d",
   "metadata": {},
   "outputs": [
    {
     "data": {
      "text/plain": [
       "dict_items([('name', 'avishek'), ('class', 'dataScience'), ('topic', ['python', 'stats', 'machinelearning'])])"
      ]
     },
     "execution_count": 106,
     "metadata": {},
     "output_type": "execute_result"
    }
   ],
   "source": [
    "d.items()"
   ]
  },
  {
   "cell_type": "code",
   "execution_count": 108,
   "id": "55471d7c-b022-46d4-890a-29576978a3f2",
   "metadata": {},
   "outputs": [
    {
     "name": "stdout",
     "output_type": "stream",
     "text": [
      "('name', 'avishek')\n",
      "('class', 'dataScience')\n",
      "('topic', ['python', 'stats', 'machinelearning'])\n"
     ]
    }
   ],
   "source": [
    "for i in d.items():\n",
    "    print(i)"
   ]
  },
  {
   "cell_type": "code",
   "execution_count": null,
   "id": "57c5ab39-6f19-4873-824b-39e0a2f405a9",
   "metadata": {},
   "outputs": [],
   "source": []
  }
 ],
 "metadata": {
  "kernelspec": {
   "display_name": "Python 3 (ipykernel)",
   "language": "python",
   "name": "python3"
  },
  "language_info": {
   "codemirror_mode": {
    "name": "ipython",
    "version": 3
   },
   "file_extension": ".py",
   "mimetype": "text/x-python",
   "name": "python",
   "nbconvert_exporter": "python",
   "pygments_lexer": "ipython3",
   "version": "3.12.4"
  }
 },
 "nbformat": 4,
 "nbformat_minor": 5
}
